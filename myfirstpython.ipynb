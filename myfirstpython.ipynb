{
  "nbformat": 4,
  "nbformat_minor": 0,
  "metadata": {
    "colab": {
      "private_outputs": true,
      "provenance": [],
      "toc_visible": true,
      "authorship_tag": "ABX9TyPM3P/NrXxEma4LQlnhLJUm",
      "include_colab_link": true
    },
    "kernelspec": {
      "name": "python3",
      "display_name": "Python 3"
    },
    "language_info": {
      "name": "python"
    }
  },
  "cells": [
    {
      "cell_type": "markdown",
      "metadata": {
        "id": "view-in-github",
        "colab_type": "text"
      },
      "source": [
        "<a href=\"https://colab.research.google.com/github/znumunz/dataviz2025/blob/main/myfirstpython.ipynb\" target=\"_parent\"><img src=\"https://colab.research.google.com/assets/colab-badge.svg\" alt=\"Open In Colab\"/></a>"
      ]
    },
    {
      "cell_type": "markdown",
      "source": [
        "Here we can write using **Markdown**"
      ],
      "metadata": {
        "id": "uowBYiPfH1zA"
      }
    },
    {
      "cell_type": "markdown",
      "source": [
        "#Intro"
      ],
      "metadata": {
        "id": "6GDhYvTJIB84"
      }
    },
    {
      "cell_type": "markdown",
      "source": [
        "##name"
      ],
      "metadata": {
        "id": "Ds3VhslwIcX_"
      }
    },
    {
      "cell_type": "code",
      "source": [
        "print(\"rungseang\")"
      ],
      "metadata": {
        "id": "GbFqmaXcI1jZ"
      },
      "execution_count": null,
      "outputs": []
    },
    {
      "cell_type": "markdown",
      "source": [
        "##surname"
      ],
      "metadata": {
        "id": "-74XaHZ2IWrY"
      }
    },
    {
      "cell_type": "code",
      "source": [
        "print('kongsuk')"
      ],
      "metadata": {
        "id": "1sxsZ64cI7g5"
      },
      "execution_count": null,
      "outputs": []
    }
  ]
}